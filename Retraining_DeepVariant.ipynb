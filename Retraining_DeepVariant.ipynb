{
 "cells": [
  {
   "cell_type": "markdown",
   "id": "49bcc6e5",
   "metadata": {},
   "source": [
    "# Retraining DeepVariant v1.5 using Parabricks"
   ]
  },
  {
   "cell_type": "markdown",
   "id": "7df1f14c",
   "metadata": {},
   "source": [
    "#### What is Parabricks?\n",
    "\n",
    "NVIDIA Parabricks® is the only GPU-accelerated computational genomics toolkit that delivers fast and accurate analysis for sequencing centers, clinical teams, genomics researchers, and next-generation sequencing instrument developers. Parabricks provides GPU-accelerated versions of tools used every day by computational biologists and bioinformaticians—enabling significantly faster runtimes, workflow scalability, and lower compute costs.\n",
    "\n",
    "The toolkit includes full compatibility with workflow languages and managers (WDL, NextFlow, Cromwell) to easily intertwine GPU- and CPU-powered tasks, as well as support for easy cloud deployment (AWS, GCP, Terra, and DNAnexus)."
   ]
  },
  {
   "cell_type": "markdown",
   "id": "8dfa8f83",
   "metadata": {},
   "source": [
    "#### What is DeepVariant?\n",
    "\n",
    "[DeepVariant](https://www.nature.com/articles/nbt.4235.epdf?author_access_token=q4ZmzqvvcGBqTuKyKgYrQ9RgN0jAjWel9jnR3ZoTv0NuM3saQzpZk8yexjfPUhdFj4zyaA4Yvq0LWBoCYQ4B9vqPuv8e2HHy4vShDgEs8YxI_hLs9ov6Y1f_4fyS7kGZ), developed by Google, is a deep learning-based variant caller that takes aligned reads, produces pileup image tensors from them, classifies each tensor using a convolutional neural network, and then outputs the results in a VCF or gVCF file."
   ]
  },
  {
   "cell_type": "markdown",
   "id": "5789d4df",
   "metadata": {},
   "source": [
    "# Downloading the data"
   ]
  },
  {
   "cell_type": "markdown",
   "id": "6c24fe42",
   "metadata": {},
   "source": [
    "The example data for this notebook can be found on Google cloud and requires the [gsutil](https://cloud.google.com/storage/docs/gsutil) tool. We will keep it in a folder called `data`. In total it is ~14 GB and should take a few minutes to download. "
   ]
  },
  {
   "cell_type": "code",
   "execution_count": null,
   "id": "d5de0d48",
   "metadata": {
    "scrolled": true
   },
   "outputs": [],
   "source": [
    "%%sh \n",
    "\n",
    "DATA_BUCKET=\"gs://deepvariant/training-case-study/BGISEQ-HG001\"\n",
    "DATA_DIR=\"data\"\n",
    "OUTPUT_DIR=\"output\"\n",
    "\n",
    "mkdir ${DATA_DIR}\n",
    "mkdir ${OUTPUT_DIR}\n",
    "\n",
    "gsutil -m cp \"${DATA_BUCKET}/BGISEQ_PE100_NA12878.sorted.chr*.bam*\" \"${DATA_DIR}\"\n",
    "gsutil -m cp -r \"${DATA_BUCKET}/ucsc_hg19.fa*\" \"${DATA_DIR}\"\n",
    "gsutil -m cp -r \"${DATA_BUCKET}/HG001_GRCh37_GIAB_highconf_CG-IllFB-IllGATKHC-Ion-10X-SOLID_CHROM1-X_v.3.3.2_highconf_*\" \"${DATA_DIR}\""
   ]
  },
  {
   "cell_type": "markdown",
   "id": "8cbcfc1b",
   "metadata": {},
   "source": [
    "# Building a dataset to retrain DeepVariant"
   ]
  },
  {
   "cell_type": "markdown",
   "id": "6809021d",
   "metadata": {},
   "source": [
    "To retrain the WGS baseline model, we need a dataset to train on. We will use Chromosome 1 from HG001 to generate a training dataset. \n",
    "\n",
    "Note: The filepaths for mounting data might have to change depending on where you cloned this repo. \n",
    "\n",
    "Note: This took ~7 minutes on two GPUs. "
   ]
  },
  {
   "cell_type": "code",
   "execution_count": null,
   "id": "374e11a3",
   "metadata": {},
   "outputs": [],
   "source": [
    "%%sh\n",
    "\n",
    "INPUT_DIR=\"/data\"\n",
    "OUTPUT_DIR=\"/output\"\n",
    "REF=\"${INPUT_DIR}/ucsc_hg19.fa\"\n",
    "BAM_CHR1=\"${INPUT_DIR}/BGISEQ_PE100_NA12878.sorted.chr1.bam\"\n",
    "TRUTH_VCF=\"${INPUT_DIR}/HG001_GRCh37_GIAB_highconf_CG-IllFB-IllGATKHC-Ion-10X-SOLID_CHROM1-X_v.3.3.2_highconf_PGandRTGphasetransfer_chrs_FIXED.vcf.gz\"\n",
    "TRUTH_BED=\"${INPUT_DIR}/HG001_GRCh37_GIAB_highconf_CG-IllFB-IllGATKHC-Ion-10X-SOLID_CHROM1-X_v.3.3.2_highconf_nosomaticdel_chr.bed\"\n",
    "TRAIN_EXAMPLES=\"${OUTPUT_DIR}/training_set_gpu.with_label.tfrecord.gz\"\n",
    "CONTAINER=\"nvcr.io/nv-parabricks-dev/clara-parabricks:4.2.0-1.dvtraining\"\n",
    "\n",
    "docker run \\\n",
    "    --runtime \"nvidia\" \\\n",
    "    --rm \\\n",
    "    -v ${PWD}/data:/data \\\n",
    "    -v ${PWD}/output:/output \\\n",
    "    ${CONTAINER} pbrun make_examples \\\n",
    "    --ref ${REF} \\\n",
    "    --reads ${BAM_CHR1} \\\n",
    "    --num-streams-per-gpu 4 \\\n",
    "    --num-gpus 2 \\\n",
    "    --num-cpu-threads-per-stream 8 \\\n",
    "    -L \"chr1\" \\\n",
    "    --disable-use-window-selector-model \\\n",
    "    --truth-variants ${TRUTH_VCF} \\\n",
    "    --confident-regions ${TRUTH_BED} \\\n",
    "    --examples ${TRAIN_EXAMPLES} \\\n",
    "    --channel-insert-size\n"
   ]
  },
  {
   "cell_type": "markdown",
   "id": "156a7efe",
   "metadata": {},
   "source": [
    "We will use Chromosome 21 from HG001 to generate a validation dataset. \n",
    "\n",
    "Note: This took ~3 minutes on 2 GPUs. "
   ]
  },
  {
   "cell_type": "code",
   "execution_count": null,
   "id": "2051cf18",
   "metadata": {},
   "outputs": [],
   "source": [
    "%%sh \n",
    "\n",
    "INPUT_DIR=\"/data\"\n",
    "OUTPUT_DIR=\"/output\"\n",
    "REF=\"${INPUT_DIR}/ucsc_hg19.fa\"\n",
    "BAM_CHR21=\"${INPUT_DIR}/BGISEQ_PE100_NA12878.sorted.chr21.bam\"\n",
    "TRUTH_VCF=\"${INPUT_DIR}/HG001_GRCh37_GIAB_highconf_CG-IllFB-IllGATKHC-Ion-10X-SOLID_CHROM1-X_v.3.3.2_highconf_PGandRTGphasetransfer_chrs_FIXED.vcf.gz\"\n",
    "TRUTH_BED=\"${INPUT_DIR}/HG001_GRCh37_GIAB_highconf_CG-IllFB-IllGATKHC-Ion-10X-SOLID_CHROM1-X_v.3.3.2_highconf_nosomaticdel_chr.bed\"\n",
    "VAL_EXAMPLES=\"${OUTPUT_DIR}/validation_set_gpu.with_label.tfrecord.gz\"\n",
    "CONTAINER=\"nvcr.io/nv-parabricks-dev/clara-parabricks:4.2.0-1.dvtraining\"\n",
    "\n",
    "docker run \\\n",
    "    --runtime \"nvidia\" \\\n",
    "    --rm \\\n",
    "    -v ${PWD}/data:/data \\\n",
    "    -v ${PWD}/output:/output \\\n",
    "    ${CONTAINER} pbrun make_examples \\\n",
    "    --ref ${REF} \\\n",
    "    --reads ${BAM_CHR21} \\\n",
    "    --num-streams-per-gpu 4 \\\n",
    "    --num-gpus 2 \\\n",
    "    --num-cpu-threads-per-stream 8 \\\n",
    "    -L \"chr21\" \\\n",
    "    --disable-use-window-selector-model \\\n",
    "    --truth-variants ${TRUTH_VCF} \\\n",
    "    --confident-regions ${TRUTH_BED} \\\n",
    "    --examples ${VAL_EXAMPLES} \\\n",
    "    --channel-insert-size"
   ]
  },
  {
   "cell_type": "markdown",
   "id": "6bc39d8b",
   "metadata": {},
   "source": [
    "### Shuffling the training data"
   ]
  },
  {
   "cell_type": "markdown",
   "id": "b23bb415",
   "metadata": {},
   "source": [
    "Before we can train the model we will need to shuffle each set of examples and generate a data config file. This has to be done for both the training and validation dataset. "
   ]
  },
  {
   "cell_type": "code",
   "execution_count": null,
   "id": "c63e44e7",
   "metadata": {
    "scrolled": true
   },
   "outputs": [],
   "source": [
    "%%sh\n",
    "\n",
    "OUTPUT_DIR=\"/output\"\n",
    "CONTAINER=\"nvcr.io/nv-parabricks-dev/clara-parabricks:4.2.0-1.dvtraining\"\n",
    "INPUT_FILES=$(ls ${PWD}/output/training_set_gpu.with_label.tfrecord-?????-of-00004.gz | sed 's|'${PWD}/output'|'${OUTPUT_DIR}'|')\n",
    "\n",
    "# shuffle training set \n",
    "docker run \\\n",
    "    --runtime \"nvidia\" \\\n",
    "    --rm \\\n",
    "    -v ${PWD}/output:${OUTPUT_DIR} \\\n",
    "    ${CONTAINER} pbrun shuffle \\\n",
    "    --input-pattern-list ${INPUT_FILES} \\\n",
    "    --output-pattern-prefix=${OUTPUT_DIR}/training_set_gpu.with_label.shuffled \\\n",
    "    --output-dataset-config=${OUTPUT_DIR}/training_set_gpu.pbtxt \\\n",
    "    --output-dataset-name=\"HG001\" \\\n",
    "    --direct-num-workers=4"
   ]
  },
  {
   "cell_type": "code",
   "execution_count": null,
   "id": "92255d29",
   "metadata": {
    "scrolled": true
   },
   "outputs": [],
   "source": [
    "%%sh\n",
    "\n",
    "OUTPUT_DIR=\"/output\"\n",
    "CONTAINER=\"nvcr.io/nv-parabricks-dev/clara-parabricks:4.2.0-1.dvtraining\"\n",
    "INPUT_FILES=$(ls ${PWD}/output/validation_set_gpu.with_label.tfrecord-?????-of-00004.gz | sed 's|'${PWD}/output'|'${OUTPUT_DIR}'|')\n",
    "\n",
    "# shuffle validation set\n",
    "docker run \\\n",
    "    --runtime \"nvidia\" \\\n",
    "    --rm \\\n",
    "    -v ${PWD}/output:/output \\\n",
    "    ${CONTAINER} pbrun shuffle \\\n",
    "    --input-pattern-list ${INPUT_FILES} \\\n",
    "    --output-pattern-prefix=${OUTPUT_DIR}/validation_set_gpu.with_label.shuffled \\\n",
    "    --output-dataset-config=${OUTPUT_DIR}/validation_set_gpu.pbtxt \\\n",
    "    --output-dataset-name=\"HG001\" \\\n",
    "    --direct-num-workers=4"
   ]
  },
  {
   "cell_type": "markdown",
   "id": "1a883d85",
   "metadata": {},
   "source": [
    "# Training the DeepVariant model"
   ]
  },
  {
   "cell_type": "markdown",
   "id": "9887eb8f",
   "metadata": {},
   "source": [
    "Next we want to run the following two code blocks at the same time to train and evaluate the different possible models. "
   ]
  },
  {
   "cell_type": "markdown",
   "id": "6963890b",
   "metadata": {},
   "source": [
    "This first cell will constantly check the `training_dir` folder for new model checkpoints. When a new model checkpoint is generated by the training script, it will evaluate the checkpoint and keep track of which checkpoint performs the best. "
   ]
  },
  {
   "cell_type": "code",
   "execution_count": null,
   "id": "87cf03d8",
   "metadata": {},
   "outputs": [],
   "source": [
    "%%sh\n",
    "\n",
    "# Note: we have to manually stop running this once model train stops generating checkpoints\n",
    "\n",
    "BIN_VERSION=\"1.5.0\"\n",
    "OUTPUT_DIR=\"/output\"\n",
    "TRAINING_DIR=\"/training_dir\"\n",
    "LOG_DIR=\"/logs\"\n",
    "\n",
    "mkdir logs\n",
    "mkdir training_dir\n",
    "\n",
    "docker run \\\n",
    "    -v ${PWD}/output:/output \\\n",
    "    -v ${PWD}/training_dir:/training_dir \\\n",
    "    -v ${PWD}/logs:/logs \\\n",
    "    google/deepvariant:\"${BIN_VERSION}\" \\\n",
    "    /opt/deepvariant/bin/model_eval \\\n",
    "    --dataset_config_pbtxt=\"${OUTPUT_DIR}/validation_set_gpu.pbtxt\" \\\n",
    "    --checkpoint_dir=\"${TRAINING_DIR}\" \\\n",
    "    --batch_size=512 > \"logs/eval_gpu.log\" 2>&1 &"
   ]
  },
  {
   "cell_type": "markdown",
   "id": "b405427d",
   "metadata": {},
   "source": [
    "This cell kicks off the DeepVariant training. "
   ]
  },
  {
   "cell_type": "code",
   "execution_count": null,
   "id": "acaacdfe",
   "metadata": {},
   "outputs": [],
   "source": [
    "%%sh\n",
    "\n",
    "# all parameters below are used as an example. They are not optimized for this dataset, and are not recommended as the best default\n",
    "\n",
    "BIN_VERSION=\"1.5.0\"\n",
    "OUTPUT_DIR=\"/output\"\n",
    "TRAINING_DIR=\"/training_dir\"\n",
    "LOG_DIR=\"/logs\"\n",
    "\n",
    "MODEL_BUCKET=\"gs://deepvariant/models/DeepVariant/${BIN_VERSION}/DeepVariant-inception_v3-${BIN_VERSION}+data-wgs_standard\"\n",
    "GCS_PRETRAINED_WGS_MODEL=\"${MODEL_BUCKET}/model.ckpt\"\n",
    "\n",
    "(docker run \\\n",
    "    --runtime \"nvidia\" \\\n",
    "    --rm \\\n",
    "    -v ${PWD}/output:/output \\\n",
    "    -v ${PWD}/training_dir:/training_dir \\\n",
    "    -v ${PWD}/logs:/logs \\\n",
    "    google/deepvariant:\"${BIN_VERSION}-gpu\" \\\n",
    "    /opt/deepvariant/bin/model_train \\\n",
    "    --dataset_config_pbtxt=\"${OUTPUT_DIR}/training_set_gpu.pbtxt\" \\\n",
    "    --train_dir=\"${TRAINING_DIR}\" \\\n",
    "    --model_name=\"inception_v3\" \\\n",
    "    --number_of_steps=5000 \\\n",
    "    --save_interval_secs=300 \\\n",
    "    --batch_size=32 \\\n",
    "    --learning_rate=0.0005 \\\n",
    "    --start_from_checkpoint=\"${GCS_PRETRAINED_WGS_MODEL}\" \\\n",
    "    ) > \"logs/train_gpu.log\" 2>&1"
   ]
  },
  {
   "cell_type": "markdown",
   "id": "36501a65",
   "metadata": {},
   "source": [
    "# Choose the best model"
   ]
  },
  {
   "cell_type": "markdown",
   "id": "099c67a3",
   "metadata": {},
   "source": [
    "We then want to pick the best mdoel. We can determine which model to use by running the line of code below. "
   ]
  },
  {
   "cell_type": "markdown",
   "id": "1fa5ae31",
   "metadata": {},
   "source": [
    "Let's cat the file `training_dir/best_checkpoint.txt`"
   ]
  },
  {
   "cell_type": "code",
   "execution_count": null,
   "id": "6c73503f",
   "metadata": {},
   "outputs": [],
   "source": [
    "! cat training_dir/best_checkpoint.txt"
   ]
  }
 ],
 "metadata": {
  "kernelspec": {
   "display_name": "Python 3 (ipykernel)",
   "language": "python",
   "name": "python3"
  },
  "language_info": {
   "codemirror_mode": {
    "name": "ipython",
    "version": 3
   },
   "file_extension": ".py",
   "mimetype": "text/x-python",
   "name": "python",
   "nbconvert_exporter": "python",
   "pygments_lexer": "ipython3",
   "version": "3.8.10"
  }
 },
 "nbformat": 4,
 "nbformat_minor": 5
}
